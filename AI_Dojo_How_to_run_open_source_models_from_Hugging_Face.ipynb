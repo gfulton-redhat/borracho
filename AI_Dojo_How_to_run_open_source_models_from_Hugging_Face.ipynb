{
  "cells": [
    {
      "cell_type": "markdown",
      "metadata": {
        "id": "view-in-github",
        "colab_type": "text"
      },
      "source": [
        "<a href=\"https://colab.research.google.com/github/gfulton-redhat/borracho/blob/main/Copy_of_%5BAI_Dojo%5D_How_to_run_open_source_models_from_Hugging_Face.ipynb\" target=\"_parent\"><img src=\"https://colab.research.google.com/assets/colab-badge.svg\" alt=\"Open In Colab\"/></a>"
      ]
    },
    {
      "cell_type": "markdown",
      "metadata": {
        "id": "0dUJ7AEbX2DZ"
      },
      "source": [
        "# How to run open source models from Hugging Face\n",
        "\n",
        "by [Alberto Falossi](afalossi@redhat.com) - _OpenShift Observability Intelligence_\n",
        "\n",
        "This notebook shows you how to use one of the thousands of open source AI models hosted on [Hugging Face](https://hf.co) (HF). Use these examples to quickly test the behavior of the different models and validate your ideas.\n",
        "\n",
        "---\n",
        "\n",
        "Select _File -> Save a copy in Drive_ to clone it and make your own changes."
      ]
    },
    {
      "cell_type": "code",
      "source": [],
      "metadata": {
        "id": "0V2Dv9PyahZA"
      },
      "execution_count": null,
      "outputs": []
    },
    {
      "cell_type": "markdown",
      "source": [],
      "metadata": {
        "id": "0QY_fMesah6r"
      }
    },
    {
      "cell_type": "code",
      "execution_count": null,
      "metadata": {
        "id": "9VTW5ZTa2cai"
      },
      "outputs": [],
      "source": [
        "# MODEL_ID = \"mistralai/Mistral-7B-v0.1\"\n",
        "MODEL_ID = \"mistralai/Mistral-7B-Instruct-v0.1\"\n",
        "# MODEL_ID =  \"mistralai/Mixtral-8x7B-Instruct-v0.1\"\n",
        "\n",
        "# the prompt syntax is different for each model (see the model documentation)\n",
        "def format_prompt(text):\n",
        "  return f\"<s>[INST] {text} [/INST]\" # Mistral"
      ]
    },
    {
      "cell_type": "markdown",
      "metadata": {
        "id": "P-a4sUhsNqbC"
      },
      "source": [
        "## Running a model remotely\n",
        "\n",
        "This is the official HF client API for running a model remotely. Not all models are available through the API.\n",
        "\n",
        "See https://huggingface.co/docs/huggingface_hub/v0.20.3/guides/inference for the parameters"
      ]
    },
    {
      "cell_type": "code",
      "execution_count": null,
      "metadata": {
        "id": "IBX4wj-qXZ4T"
      },
      "outputs": [],
      "source": [
        "!pip install --quiet --upgrade huggingface_hub"
      ]
    },
    {
      "cell_type": "code",
      "execution_count": null,
      "metadata": {
        "colab": {
          "base_uri": "https://localhost:8080/"
        },
        "id": "BcrnFaUtf9bY",
        "outputId": "3630b325-beb3-4ef9-c8bd-2161da3420df"
      },
      "outputs": [
        {
          "output_type": "stream",
          "name": "stdout",
          "text": [
            "\n",
            "\n",
            "Saturday's Mega Millions lottery number is 11, 17, 22, 29, 31, and 38. The Megaplier number is 4.\n"
          ]
        }
      ],
      "source": [
        "from huggingface_hub import InferenceClient\n",
        "\n",
        "# NOTE: Don't include any sensitive/confidential data in the prompt!\n",
        "prompt = \"What is Saturday's mega million lotto number?\"\n",
        "\n",
        "model = InferenceClient(model=MODEL_ID)\n",
        "output = model.text_generation(prompt, max_new_tokens=200)\n",
        "\n",
        "print(output)"
      ]
    },
    {
      "cell_type": "markdown",
      "metadata": {
        "id": "IDT8i52xOcIz"
      },
      "source": [
        "### Same as above, but using LangChain\n",
        "\n",
        "[LangChain](https://python.langchain.com/docs/get_started/introduction) is a popular AI abstraction library for interacting with language models. It's compatible with Hugging Face, OpenAI, and many others.\n",
        "\n",
        "In many tutorials/demos on the web you'll find LangChain instead of the native Inference API."
      ]
    },
    {
      "cell_type": "code",
      "execution_count": null,
      "metadata": {
        "colab": {
          "base_uri": "https://localhost:8080/"
        },
        "id": "vHY_KbO-3Axj",
        "outputId": "7db3a457-b14f-4700-b2d7-f64ee3c719ec"
      },
      "outputs": [
        {
          "output_type": "stream",
          "name": "stdout",
          "text": [
            "\u001b[2K     \u001b[90m━━━━━━━━━━━━━━━━━━━━━━━━━━━━━━━━━━━━━━━━\u001b[0m \u001b[32m815.9/815.9 kB\u001b[0m \u001b[31m10.9 MB/s\u001b[0m eta \u001b[36m0:00:00\u001b[0m\n",
            "\u001b[2K     \u001b[90m━━━━━━━━━━━━━━━━━━━━━━━━━━━━━━━━━━━━━━━━\u001b[0m \u001b[32m1.7/1.7 MB\u001b[0m \u001b[31m17.4 MB/s\u001b[0m eta \u001b[36m0:00:00\u001b[0m\n",
            "\u001b[2K     \u001b[90m━━━━━━━━━━━━━━━━━━━━━━━━━━━━━━━━━━━━━━━━\u001b[0m \u001b[32m241.2/241.2 kB\u001b[0m \u001b[31m21.4 MB/s\u001b[0m eta \u001b[36m0:00:00\u001b[0m\n",
            "\u001b[2K     \u001b[90m━━━━━━━━━━━━━━━━━━━━━━━━━━━━━━━━━━━━━━━━\u001b[0m \u001b[32m56.5/56.5 kB\u001b[0m \u001b[31m7.2 MB/s\u001b[0m eta \u001b[36m0:00:00\u001b[0m\n",
            "\u001b[2K     \u001b[90m━━━━━━━━━━━━━━━━━━━━━━━━━━━━━━━━━━━━━━━━\u001b[0m \u001b[32m49.4/49.4 kB\u001b[0m \u001b[31m6.1 MB/s\u001b[0m eta \u001b[36m0:00:00\u001b[0m\n",
            "\u001b[2K     \u001b[90m━━━━━━━━━━━━━━━━━━━━━━━━━━━━━━━━━━━━━━━━\u001b[0m \u001b[32m55.4/55.4 kB\u001b[0m \u001b[31m6.9 MB/s\u001b[0m eta \u001b[36m0:00:00\u001b[0m\n",
            "\u001b[?25h"
          ]
        }
      ],
      "source": [
        "!pip install --quiet --upgrade langchain"
      ]
    },
    {
      "cell_type": "code",
      "execution_count": null,
      "metadata": {
        "id": "Hzazv6Aj61qO"
      },
      "outputs": [],
      "source": [
        "# LangChain doesn't read the Google Colab secrets automatically\n",
        "# You can directly HUGGINGFACEHUB_API_TOKEN\n",
        "import os\n",
        "from google.colab import userdata\n",
        "os.environ[\"HUGGINGFACEHUB_API_TOKEN\"] = userdata.get(\"HF_TOKEN\")"
      ]
    },
    {
      "cell_type": "code",
      "execution_count": null,
      "metadata": {
        "colab": {
          "base_uri": "https://localhost:8080/"
        },
        "id": "jiyN3_O34IC2",
        "outputId": "66fa9200-7d32-4c2b-e14a-f3e525a9367b"
      },
      "outputs": [
        {
          "output_type": "stream",
          "name": "stderr",
          "text": [
            "/usr/local/lib/python3.10/dist-packages/langchain_core/_api/deprecation.py:117: LangChainDeprecationWarning: The function `__call__` was deprecated in LangChain 0.1.7 and will be removed in 0.2.0. Use invoke instead.\n",
            "  warn_deprecated(\n"
          ]
        },
        {
          "output_type": "stream",
          "name": "stdout",
          "text": [
            "What is Saturday's mega million lotto number?\n",
            "\n",
            "Saturday's Mega Millions lottery number is 11, 17, 22, 29, 31, and 38. The Megaplier number is 4.\n"
          ]
        }
      ],
      "source": [
        "from langchain import HuggingFaceHub\n",
        "\n",
        "model = HuggingFaceHub(repo_id=MODEL_ID)\n",
        "output = model(prompt)\n",
        "\n",
        "print(output)"
      ]
    },
    {
      "cell_type": "markdown",
      "metadata": {
        "id": "u9v_f0xKToY9"
      },
      "source": [
        "### Not only language models\n",
        "\n",
        "Hugging Face hosts [several types of models](https://huggingface.co/tasks). This is a text-to-image model, executed via the Inference API:\n",
        "\n",
        "\n"
      ]
    },
    {
      "cell_type": "code",
      "execution_count": null,
      "metadata": {
        "colab": {
          "base_uri": "https://localhost:8080/",
          "height": 529
        },
        "id": "QnQF9TGD2OeQ",
        "outputId": "9a15ebbb-eb9f-42e9-ec6d-1b3c87bae2de"
      },
      "outputs": [
        {
          "data": {
            "image/png": "[encoded data removed]",
            "text/plain": [
              "<PIL.JpegImagePlugin.JpegImageFile image mode=RGB size=512x512>"
            ]
          },
          "execution_count": 7,
          "metadata": {},
          "output_type": "execute_result"
        }
      ],
      "source": [
        "InferenceClient(model=\"runwayml/stable-diffusion-v1-5\").text_to_image(\"a fedora red hat \")"
      ]
    },
    {
      "cell_type": "markdown",
      "metadata": {
        "id": "pKtsxf89Rrg2"
      },
      "source": [
        "## Running a model locally\n",
        "\n",
        "Any HF model can be downloaded and executed locally, assuming you have the right hardware. Be sure to use the latest `transformers` library, which provides a [common interface](https://huggingface.co/docs/transformers/index) for all the models.\n",
        "\n",
        "To run this code switch the runtime to GPU (Runtime -> Change Runtime -> T4 GPU).\n",
        "\n",
        "> Note: This notebook still runs in a container in the Google cloud. **Do not send any sensitive/confidential data**. The model runs _really locally_ when you run the code in a local Jupyter notebook or Python 3.8+ terminal."
      ]
    },
    {
      "cell_type": "code",
      "execution_count": null,
      "metadata": {
        "colab": {
          "base_uri": "https://localhost:8080/"
        },
        "id": "KYqlsMWmSXeo",
        "outputId": "198e7fc6-5215-4674-e5fe-40e1657d4743"
      },
      "outputs": [
        {
          "name": "stdout",
          "output_type": "stream",
          "text": [
            "\u001b[2K     \u001b[90m━━━━━━━━━━━━━━━━━━━━━━━━━━━━━━━━━━━━━━━━\u001b[0m \u001b[32m8.4/8.4 MB\u001b[0m \u001b[31m12.9 MB/s\u001b[0m eta \u001b[36m0:00:00\u001b[0m\n",
            "\u001b[?25h"
          ]
        }
      ],
      "source": [
        "!pip install --quiet --upgrade transformers\n",
        "# !pip install git+https://github.com/huggingface/transformers to load the main branch"
      ]
    },
    {
      "cell_type": "code",
      "execution_count": null,
      "metadata": {
        "colab": {
          "base_uri": "https://localhost:8080/"
        },
        "id": "MmcieP2S0d_9",
        "outputId": "30db2dc2-53f2-4db6-a4be-c6e36dc33521"
      },
      "outputs": [
        {
          "name": "stdout",
          "output_type": "stream",
          "text": [
            "Tue Feb  6 13:08:36 2024       \n",
            "+---------------------------------------------------------------------------------------+\n",
            "| NVIDIA-SMI 535.104.05             Driver Version: 535.104.05   CUDA Version: 12.2     |\n",
            "|-----------------------------------------+----------------------+----------------------+\n",
            "| GPU  Name                 Persistence-M | Bus-Id        Disp.A | Volatile Uncorr. ECC |\n",
            "| Fan  Temp   Perf          Pwr:Usage/Cap |         Memory-Usage | GPU-Util  Compute M. |\n",
            "|                                         |                      |               MIG M. |\n",
            "|=========================================+======================+======================|\n",
            "|   0  Tesla T4                       Off | 00000000:00:04.0 Off |                    0 |\n",
            "| N/A   39C    P8              10W /  70W |      0MiB / 15360MiB |      0%      Default |\n",
            "|                                         |                      |                  N/A |\n",
            "+-----------------------------------------+----------------------+----------------------+\n",
            "                                                                                         \n",
            "+---------------------------------------------------------------------------------------+\n",
            "| Processes:                                                                            |\n",
            "|  GPU   GI   CI        PID   Type   Process name                            GPU Memory |\n",
            "|        ID   ID                                                             Usage      |\n",
            "|=======================================================================================|\n",
            "|  No running processes found                                                           |\n",
            "+---------------------------------------------------------------------------------------+\n"
          ]
        }
      ],
      "source": [
        "!nvidia-smi"
      ]
    },
    {
      "cell_type": "code",
      "execution_count": null,
      "metadata": {
        "colab": {
          "base_uri": "https://localhost:8080/"
        },
        "id": "_idntx8a3d4C",
        "outputId": "72fb6bb3-02ab-4907-a50b-388cb081fcb3"
      },
      "outputs": [
        {
          "name": "stdout",
          "output_type": "stream",
          "text": [
            "\u001b[2K     \u001b[90m━━━━━━━━━━━━━━━━━━━━━━━━━━━━━━━━━━━━━━━━\u001b[0m \u001b[32m105.0/105.0 MB\u001b[0m \u001b[31m8.8 MB/s\u001b[0m eta \u001b[36m0:00:00\u001b[0m\n",
            "\u001b[2K     \u001b[90m━━━━━━━━━━━━━━━━━━━━━━━━━━━━━━━━━━━━━━━━\u001b[0m \u001b[32m270.9/270.9 kB\u001b[0m \u001b[31m29.8 MB/s\u001b[0m eta \u001b[36m0:00:00\u001b[0m\n",
            "\u001b[?25h"
          ]
        }
      ],
      "source": [
        "!pip install --qui bitsandbytes accelerate # einops"
      ]
    },
    {
      "cell_type": "code",
      "execution_count": null,
      "metadata": {
        "colab": {
          "background_save": true,
          "base_uri": "https://localhost:8080/",
          "height": 209,
          "referenced_widgets": [
            "661149e950154562869e9b7e60a4d69c",
            "ba687bcd100f4aaab322dcce6816cf44",
            "e345d2cc4b22436a9b7b1da7e0bb1aa0",
            "3d9861fb25524bf982e319338c040c78",
            "b3c2af43bb6649a4aef41f6c3ccbeec2",
            "aa8f179e2bd2411ba6465d6e082d5ca7",
            "f872cf941ad84396bd8ffa5791b04fcb",
            "a99ba19b5fb5450c8307dd36354c483d",
            "244e3a29822d4f58ac7c422ddc8372bd",
            "ff77fd7fc22a41a4898e79238a3fa170",
            "4c1df76329844faca5ba0e790f31a6ff",
            "9d63026223594acb9be138d12c4ba5dd",
            "1aecf7228d844475bc850624171800e9",
            "6ca0023801ad4f4a9a0a0cdb32ba34d1",
            "9bc9c75e18a944eca493e1df6702d2e8",
            "9e3274d4946940d5aea4d514a0b2c2ec",
            "c75843c516bc42d8a87c25b045afd5e7",
            "14e8ff7b1ad44438ac0262333aae36c8",
            "cac520fc3ccc4c0f855612726f83cacc",
            "fb60e0c1d4bd4df89409f5a3131514e6",
            "37c3bb07d5b44821bc1e447c8c2e8bc5",
            "8a4f5c040d5f417489a3717f1594770a",
            "b607b17f09d640aba18f3dba586ab96b",
            "9a55c6cf64c94ff88a10f64c968b86c9",
            "2550a0980c284ac292fa34189925ed5a",
            "0581be0583a34c0faab9629365b08db2",
            "c3bf0e3cd48c4a94b784bc665f89d010",
            "e41c440093b3473da42412f69a26fa1f",
            "60ffc724689646cf8c20e80c573a43a9",
            "f4493d2e5c71411cbace03282f5eff40",
            "f121fefcfabe4bc7b4b4d96f3ddaab30",
            "bf9f128b3f3e444ea2776a2f7ff336e1",
            "74588f095cb8487999ece24e83b5e2fb",
            "41cd4cc0797f47efb8c191d04b9496ce",
            "2bf43eb5eb24410c90cc340fad794ea3",
            "a7d2dedd17b1420ab6eeea3307bf3d7f",
            "e9ca586aced14b4080b972111e9d8c20",
            "702f61a879c34a1c84d74f5f2b6623f5",
            "ea9c8b6277e4494c9764a4b3dd4b1f58",
            "c59ff2f051e545a7b1484ef1f2c13b9f",
            "1709adf3b3fc404bbe12270d875ef681",
            "871b9e0a9a874789aedce51d24cf9a09",
            "1030b1975ad9461fbb8a8cc08bf5e221",
            "16266b91aefd41979181146a23636b5e",
            "44e3c6e7b3ab470e866ff6d33d76867f",
            "dca5f53964634da391e5d48c7b0bc722",
            "8b68c5ccfcbb41edbd848b15e7d40005",
            "58a00c07770d444d93956ec50a9849a9",
            "058e1bb60be1455ba2e342425393096b",
            "461a4431ded34679baa758fae5401d44",
            "1956dc38375d4399b5173889f1a5996f",
            "d98e4792b91940799501e4dcad738a1f",
            "facd17d5c21b40208a5d2616b881113b",
            "43ab8f07c8184f9b91dc6a5a679ec395",
            "f61b26f4b26e4c8e8903a4e10bb12636",
            "467adba9064c4aff8a8a61158a70d311",
            "43b80997f78244879f20b8f428534620",
            "c829a4ebec9347a2b64ed6f3183aedf3",
            "da74f010ea3d40dd80aaa0ec04d9cc76",
            "1dbc7d93794943cf97cdfd57091df99a",
            "c7295385a4504ac8aa2b34155e4e49bd",
            "ad1275c5c30e4afca10afc3863aeff3b",
            "b1355c625c994a2cadd1edbccb8f8fe3",
            "414c7ca6a8ea41688afc830b0452e246",
            "0566a7afc16f4d3d838fdfa4a207d3d8",
            "b8079e99e44c4e8e976fdc6c1e131d60",
            "ce68d48112754692bb4bfd24352fbdf3",
            "f2afcc12cdc1493cb2ad31fc8eb9f95d",
            "a5e345555b76447a8efd4ebd7eeca50c",
            "251345dca93b4f38bb94d02e517a1e28",
            "da03b5531d544284adc3173c4b89e0bb"
          ]
        },
        "id": "bBmPexCo3jEo",
        "outputId": "c88cbcc7-2fa1-49d0-c8b7-4165b28c1e6d"
      },
      "outputs": [
        {
          "data": {
            "application/vnd.jupyter.widget-view+json": {
              "model_id": "661149e950154562869e9b7e60a4d69c",
              "version_major": 2,
              "version_minor": 0
            },
            "text/plain": [
              "config.json:   0%|          | 0.00/571 [00:00<?, ?B/s]"
            ]
          },
          "metadata": {},
          "output_type": "display_data"
        },
        {
          "data": {
            "application/vnd.jupyter.widget-view+json": {
              "model_id": "9d63026223594acb9be138d12c4ba5dd",
              "version_major": 2,
              "version_minor": 0
            },
            "text/plain": [
              "model.safetensors.index.json:   0%|          | 0.00/25.1k [00:00<?, ?B/s]"
            ]
          },
          "metadata": {},
          "output_type": "display_data"
        },
        {
          "data": {
            "application/vnd.jupyter.widget-view+json": {
              "model_id": "b607b17f09d640aba18f3dba586ab96b",
              "version_major": 2,
              "version_minor": 0
            },
            "text/plain": [
              "Downloading shards:   0%|          | 0/2 [00:00<?, ?it/s]"
            ]
          },
          "metadata": {},
          "output_type": "display_data"
        },
        {
          "data": {
            "application/vnd.jupyter.widget-view+json": {
              "model_id": "41cd4cc0797f47efb8c191d04b9496ce",
              "version_major": 2,
              "version_minor": 0
            },
            "text/plain": [
              "model-00001-of-00002.safetensors:   0%|          | 0.00/9.94G [00:00<?, ?B/s]"
            ]
          },
          "metadata": {},
          "output_type": "display_data"
        },
        {
          "data": {
            "application/vnd.jupyter.widget-view+json": {
              "model_id": "44e3c6e7b3ab470e866ff6d33d76867f",
              "version_major": 2,
              "version_minor": 0
            },
            "text/plain": [
              "model-00002-of-00002.safetensors:   0%|          | 0.00/4.54G [00:00<?, ?B/s]"
            ]
          },
          "metadata": {},
          "output_type": "display_data"
        },
        {
          "data": {
            "application/vnd.jupyter.widget-view+json": {
              "model_id": "467adba9064c4aff8a8a61158a70d311",
              "version_major": 2,
              "version_minor": 0
            },
            "text/plain": [
              "Loading checkpoint shards:   0%|          | 0/2 [00:00<?, ?it/s]"
            ]
          },
          "metadata": {},
          "output_type": "display_data"
        },
        {
          "data": {
            "application/vnd.jupyter.widget-view+json": {
              "model_id": "ce68d48112754692bb4bfd24352fbdf3",
              "version_major": 2,
              "version_minor": 0
            },
            "text/plain": [
              "generation_config.json:   0%|          | 0.00/116 [00:00<?, ?B/s]"
            ]
          },
          "metadata": {},
          "output_type": "display_data"
        },
        {
          "data": {
            "application/vnd.jupyter.widget-view+json": {
              "model_id": "f2afcc12cdc1493cb2ad31fc8eb9f95d",
              "version_major": 2,
              "version_minor": 0
            },
            "text/plain": [
              "tokenizer_config.json:   0%|          | 0.00/1.47k [00:00<?, ?B/s]"
            ]
          },
          "metadata": {},
          "output_type": "display_data"
        },
        {
          "data": {
            "application/vnd.jupyter.widget-view+json": {
              "model_id": "a5e345555b76447a8efd4ebd7eeca50c",
              "version_major": 2,
              "version_minor": 0
            },
            "text/plain": [
              "tokenizer.model:   0%|          | 0.00/493k [00:00<?, ?B/s]"
            ]
          },
          "metadata": {},
          "output_type": "display_data"
        },
        {
          "data": {
            "application/vnd.jupyter.widget-view+json": {
              "model_id": "251345dca93b4f38bb94d02e517a1e28",
              "version_major": 2,
              "version_minor": 0
            },
            "text/plain": [
              "tokenizer.json:   0%|          | 0.00/1.80M [00:00<?, ?B/s]"
            ]
          },
          "metadata": {},
          "output_type": "display_data"
        },
        {
          "data": {
            "application/vnd.jupyter.widget-view+json": {
              "model_id": "da03b5531d544284adc3173c4b89e0bb",
              "version_major": 2,
              "version_minor": 0
            },
            "text/plain": [
              "special_tokens_map.json:   0%|          | 0.00/72.0 [00:00<?, ?B/s]"
            ]
          },
          "metadata": {},
          "output_type": "display_data"
        }
      ],
      "source": [
        "import torch\n",
        "import transformers\n",
        "from transformers import AutoTokenizer, AutoModelForCausalLM\n",
        "\n",
        "torch.set_default_device(\"cuda\")\n",
        "\n",
        "# model quantization is needed to run the model in the Google Colab T4 runtime\n",
        "# it may not be necessary to run it on your laptop\n",
        "# see https://huggingface.co/blog/4bit-transformers-bitsandbytes\n",
        "bnb_config = transformers.BitsAndBytesConfig(\n",
        "    load_in_4bit=True,\n",
        "    bnb_4bit_use_double_quant=True,\n",
        "    bnb_4bit_quant_type=\"nf4\",\n",
        "    bnb_4bit_compute_dtype=torch.bfloat16\n",
        ")\n",
        "\n",
        "# download the model\n",
        "model = transformers.AutoModelForCausalLM.from_pretrained(\n",
        "    MODEL_ID,\n",
        "    trust_remote_code=True,\n",
        "    quantization_config=bnb_config,\n",
        "    device_map='auto',\n",
        ")\n",
        "\n",
        "# download the tokenizer\n",
        "tokenizer = transformers.AutoTokenizer.from_pretrained(\n",
        "    MODEL_ID,\n",
        ")"
      ]
    },
    {
      "cell_type": "code",
      "execution_count": null,
      "metadata": {
        "colab": {
          "background_save": true
        },
        "id": "aMpzMPo38uL2",
        "outputId": "f5dd0269-9644-49ca-b97c-4350a93b5d3b"
      },
      "outputs": [
        {
          "name": "stdout",
          "output_type": "stream",
          "text": [
            "<s> [INST] Give me the recipe for pizza [/INST] Here is a simple recipe for pizza that you can make at home:\n",
            "\n",
            "Ingredients:\n",
            "- Pizza Dough\n",
            "- Tomato sauce\n",
            "- Mozzarella cheese, shredded\n",
            "- Toppings of your choice (such as pepperoni, peppers, onions, olives, mushrooms, etc)\n",
            "- Salt and pepper to taste\n",
            "- Olive oil\n",
            "- garlic powder\n",
            "- dried basil\n",
            "\n",
            "Instructions:\n",
            "\n",
            "1. Preheat your oven to 475 degrees Fahrenheit (245 degrees Celsius).\n",
            "2. On a lightly floured surface, roll out the pizza dough to your desired thickness.\n",
            "3. Place the rolled-out dough onto a baking sheet or pizza stone.\n",
            "4. Brush the dough with a little bit of olive oil and sprinkle on garlic powder and dried basil.\n",
            "5. Spread a layer of tomato sauce over the\n",
            "CPU times: user 32.3 s, sys: 691 ms, total: 33 s\n",
            "Wall time: 35.3 s\n"
          ]
        }
      ],
      "source": [
        "%%time\n",
        "\n",
        "prompt = format_prompt(\"Give me the recipe for pizza\")\n",
        "\n",
        "input_tokens = tokenizer(prompt, return_tensors=\"pt\", add_special_tokens=False)\n",
        "\n",
        "output_tokens = model.generate(\n",
        "    **input_tokens,\n",
        "    max_new_tokens=200,\n",
        "    do_sample=True,\n",
        "    pad_token_id=tokenizer.eos_token_id\n",
        ")\n",
        "\n",
        "output = tokenizer.batch_decode(output_tokens)\n",
        "\n",
        "print(output[0])"
      ]
    },
    {
      "cell_type": "markdown",
      "metadata": {
        "id": "VVizvook95z4"
      },
      "source": [
        "### Not only language models\n",
        "\n",
        "Here is the [Bark](https://github.com/suno-ai/bark?tab=readme-ov-file#-usage-in-python) text-to-speech model"
      ]
    },
    {
      "cell_type": "code",
      "execution_count": null,
      "metadata": {
        "colab": {
          "background_save": true,
          "referenced_widgets": [
            "449ba88d50404564a13c701ee2bc20be",
            "f870732cade84867a438c7fba226d2e0",
            "347fcdb50b5b4b9d927dd2598a2e5b87",
            "90ec9ec4879445aabe83347aceb3d53a",
            "d043cf010a214b39b302027a623de0db",
            "ed8a54164fc44240adaa9c460ad387da",
            "d976832d41574a08b50c7f38d6c65c16",
            "0ea0dc5bf58d47af8c4733f748c9adfd"
          ]
        },
        "id": "yJBN4RUw5f70",
        "outputId": "78d9bcd7-e599-4738-af2a-19f3e50c8db0"
      },
      "outputs": [
        {
          "data": {
            "application/vnd.jupyter.widget-view+json": {
              "model_id": "449ba88d50404564a13c701ee2bc20be",
              "version_major": 2,
              "version_minor": 0
            },
            "text/plain": [
              "config.json:   0%|          | 0.00/8.80k [00:00<?, ?B/s]"
            ]
          },
          "metadata": {},
          "output_type": "display_data"
        },
        {
          "data": {
            "application/vnd.jupyter.widget-view+json": {
              "model_id": "f870732cade84867a438c7fba226d2e0",
              "version_major": 2,
              "version_minor": 0
            },
            "text/plain": [
              "pytorch_model.bin:   0%|          | 0.00/1.68G [00:00<?, ?B/s]"
            ]
          },
          "metadata": {},
          "output_type": "display_data"
        },
        {
          "name": "stderr",
          "output_type": "stream",
          "text": [
            "/usr/local/lib/python3.10/dist-packages/torch/_utils.py:831: UserWarning: TypedStorage is deprecated. It will be removed in the future and UntypedStorage will be the only storage class. This should only matter to you if you are using storages directly.  To access UntypedStorage directly, use tensor.untyped_storage() instead of tensor.storage()\n",
            "  return self.fget.__get__(instance, owner)()\n",
            "/usr/local/lib/python3.10/dist-packages/torch/nn/utils/weight_norm.py:30: UserWarning: torch.nn.utils.weight_norm is deprecated in favor of torch.nn.utils.parametrizations.weight_norm.\n",
            "  warnings.warn(\"torch.nn.utils.weight_norm is deprecated in favor of torch.nn.utils.parametrizations.weight_norm.\")\n"
          ]
        },
        {
          "data": {
            "application/vnd.jupyter.widget-view+json": {
              "model_id": "347fcdb50b5b4b9d927dd2598a2e5b87",
              "version_major": 2,
              "version_minor": 0
            },
            "text/plain": [
              "generation_config.json:   0%|          | 0.00/4.91k [00:00<?, ?B/s]"
            ]
          },
          "metadata": {},
          "output_type": "display_data"
        },
        {
          "data": {
            "application/vnd.jupyter.widget-view+json": {
              "model_id": "90ec9ec4879445aabe83347aceb3d53a",
              "version_major": 2,
              "version_minor": 0
            },
            "text/plain": [
              "tokenizer_config.json:   0%|          | 0.00/353 [00:00<?, ?B/s]"
            ]
          },
          "metadata": {},
          "output_type": "display_data"
        },
        {
          "data": {
            "application/vnd.jupyter.widget-view+json": {
              "model_id": "d043cf010a214b39b302027a623de0db",
              "version_major": 2,
              "version_minor": 0
            },
            "text/plain": [
              "speaker_embeddings_path.json:   0%|          | 0.00/61.1k [00:00<?, ?B/s]"
            ]
          },
          "metadata": {},
          "output_type": "display_data"
        },
        {
          "data": {
            "application/vnd.jupyter.widget-view+json": {
              "model_id": "ed8a54164fc44240adaa9c460ad387da",
              "version_major": 2,
              "version_minor": 0
            },
            "text/plain": [
              "vocab.txt:   0%|          | 0.00/996k [00:00<?, ?B/s]"
            ]
          },
          "metadata": {},
          "output_type": "display_data"
        },
        {
          "data": {
            "application/vnd.jupyter.widget-view+json": {
              "model_id": "d976832d41574a08b50c7f38d6c65c16",
              "version_major": 2,
              "version_minor": 0
            },
            "text/plain": [
              "tokenizer.json:   0%|          | 0.00/2.92M [00:00<?, ?B/s]"
            ]
          },
          "metadata": {},
          "output_type": "display_data"
        },
        {
          "data": {
            "application/vnd.jupyter.widget-view+json": {
              "model_id": "0ea0dc5bf58d47af8c4733f748c9adfd",
              "version_major": 2,
              "version_minor": 0
            },
            "text/plain": [
              "special_tokens_map.json:   0%|          | 0.00/125 [00:00<?, ?B/s]"
            ]
          },
          "metadata": {},
          "output_type": "display_data"
        }
      ],
      "source": [
        "from transformers import BarkModel\n",
        "from transformers import AutoProcessor\n",
        "\n",
        "model = BarkModel.from_pretrained(\"suno/bark-small\")\n",
        "processor = AutoProcessor.from_pretrained(\"suno/bark\")"
      ]
    },
    {
      "cell_type": "code",
      "execution_count": null,
      "metadata": {
        "id": "k0XECb9i8xj1",
        "colab": {
          "base_uri": "https://localhost:8080/",
          "height": 168
        },
        "outputId": "a43bedce-8d20-4866-83c7-3b46a44eb545"
      },
      "outputs": [
        {
          "output_type": "stream",
          "name": "stderr",
          "text": [
            "The attention mask and the pad token id were not set. As a consequence, you may observe unexpected behavior. Please pass your input's `attention_mask` to obtain reliable results.\n",
            "Setting `pad_token_id` to `eos_token_id`:10000 for open-end generation.\n"
          ]
        },
        {
          "output_type": "stream",
          "name": "stdout",
          "text": [
            "CPU times: user 6.35 s, sys: 0 ns, total: 6.35 s\n",
            "Wall time: 6.41 s\n"
          ]
        },
        {
          "output_type": "execute_result",
          "data": {
            "text/plain": [
              "<IPython.lib.display.Audio object>"
            ],
            "text/html": [
              "\n",
              "                <audio  controls=\"controls\" >\n",
              "                    <source src=\"data:audio/wav;base64,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\" type=\"audio/wav\" />\n",
              "                    Your browser does not support the audio element.\n",
              "                </audio>\n",
              "              "
            ]
          },
          "metadata": {},
          "execution_count": 15
        }
      ],
      "source": [
        "%%time\n",
        "\n",
        "prompt = \"Greetings Professor Falken\"\n",
        "\n",
        "input_tokens = processor(prompt, return_tensors=\"pt\")\n",
        "output = model.generate(**input_tokens, do_sample=True)\n",
        "\n",
        "from IPython.display import Audio\n",
        "sampling_rate = model.generation_config.sample_rate\n",
        "Audio(output[0].cpu().numpy(), rate=sampling_rate)"
      ]
    }
  ],
  "metadata": {
    "accelerator": "GPU",
    "colab": {
      "collapsed_sections": [
        "IDT8i52xOcIz"
      ],
      "provenance": [],
      "include_colab_link": true
    },
    "kernelspec": {
      "display_name": "Python 3",
      "name": "python3"
    },
    "language_info": {
      "name": "python"
    },
    "widgets": {
      "application/vnd.jupyter.widget-state+json": {
        "0566a7afc16f4d3d838fdfa4a207d3d8": {
          "model_module": "@jupyter-widgets/base",
          "model_module_version": "1.2.0",
          "model_name": "LayoutModel",
          "state": {
            "_model_module": "@jupyter-widgets/base",
            "_model_module_version": "1.2.0",
            "_model_name": "LayoutModel",
            "_view_count": null,
            "_view_module": "@jupyter-widgets/base",
            "_view_module_version": "1.2.0",
            "_view_name": "LayoutView",
            "align_content": null,
            "align_items": null,
            "align_self": null,
            "border": null,
            "bottom": null,
            "display": null,
            "flex": null,
            "flex_flow": null,
            "grid_area": null,
            "grid_auto_columns": null,
            "grid_auto_flow": null,
            "grid_auto_rows": null,
            "grid_column": null,
            "grid_gap": null,
            "grid_row": null,
            "grid_template_areas": null,
            "grid_template_columns": null,
            "grid_template_rows": null,
            "height": null,
            "justify_content": null,
            "justify_items": null,
            "left": null,
            "margin": null,
            "max_height": null,
            "max_width": null,
            "min_height": null,
            "min_width": null,
            "object_fit": null,
            "object_position": null,
            "order": null,
            "overflow": null,
            "overflow_x": null,
            "overflow_y": null,
            "padding": null,
            "right": null,
            "top": null,
            "visibility": null,
            "width": null
          }
        },
        "0581be0583a34c0faab9629365b08db2": {
          "model_module": "@jupyter-widgets/controls",
          "model_module_version": "1.5.0",
          "model_name": "HTMLModel",
          "state": {
            "_dom_classes": [],
            "_model_module": "@jupyter-widgets/controls",
            "_model_module_version": "1.5.0",
            "_model_name": "HTMLModel",
            "_view_count": null,
            "_view_module": "@jupyter-widgets/controls",
            "_view_module_version": "1.5.0",
            "_view_name": "HTMLView",
            "description": "",
            "description_tooltip": null,
            "layout": "IPY_MODEL_bf9f128b3f3e444ea2776a2f7ff336e1",
            "placeholder": "​",
            "style": "IPY_MODEL_74588f095cb8487999ece24e83b5e2fb",
            "value": " 2/2 [02:18&lt;00:00, 64.60s/it]"
          }
        },
        "058e1bb60be1455ba2e342425393096b": {
          "model_module": "@jupyter-widgets/base",
          "model_module_version": "1.2.0",
          "model_name": "LayoutModel",
          "state": {
            "_model_module": "@jupyter-widgets/base",
            "_model_module_version": "1.2.0",
            "_model_name": "LayoutModel",
            "_view_count": null,
            "_view_module": "@jupyter-widgets/base",
            "_view_module_version": "1.2.0",
            "_view_name": "LayoutView",
            "align_content": null,
            "align_items": null,
            "align_self": null,
            "border": null,
            "bottom": null,
            "display": null,
            "flex": null,
            "flex_flow": null,
            "grid_area": null,
            "grid_auto_columns": null,
            "grid_auto_flow": null,
            "grid_auto_rows": null,
            "grid_column": null,
            "grid_gap": null,
            "grid_row": null,
            "grid_template_areas": null,
            "grid_template_columns": null,
            "grid_template_rows": null,
            "height": null,
            "justify_content": null,
            "justify_items": null,
            "left": null,
            "margin": null,
            "max_height": null,
            "max_width": null,
            "min_height": null,
            "min_width": null,
            "object_fit": null,
            "object_position": null,
            "order": null,
            "overflow": null,
            "overflow_x": null,
            "overflow_y": null,
            "padding": null,
            "right": null,
            "top": null,
            "visibility": null,
            "width": null
          }
        },
        "1030b1975ad9461fbb8a8cc08bf5e221": {
          "model_module": "@jupyter-widgets/base",
          "model_module_version": "1.2.0",
          "model_name": "LayoutModel",
          "state": {
            "_model_module": "@jupyter-widgets/base",
            "_model_module_version": "1.2.0",
            "_model_name": "LayoutModel",
            "_view_count": null,
            "_view_module": "@jupyter-widgets/base",
            "_view_module_version": "1.2.0",
            "_view_name": "LayoutView",
            "align_content": null,
            "align_items": null,
            "align_self": null,
            "border": null,
            "bottom": null,
            "display": null,
            "flex": null,
            "flex_flow": null,
            "grid_area": null,
            "grid_auto_columns": null,
            "grid_auto_flow": null,
            "grid_auto_rows": null,
            "grid_column": null,
            "grid_gap": null,
            "grid_row": null,
            "grid_template_areas": null,
            "grid_template_columns": null,
            "grid_template_rows": null,
            "height": null,
            "justify_content": null,
            "justify_items": null,
            "left": null,
            "margin": null,
            "max_height": null,
            "max_width": null,
            "min_height": null,
            "min_width": null,
            "object_fit": null,
            "object_position": null,
            "order": null,
            "overflow": null,
            "overflow_x": null,
            "overflow_y": null,
            "padding": null,
            "right": null,
            "top": null,
            "visibility": null,
            "width": null
          }
        },
        "14e8ff7b1ad44438ac0262333aae36c8": {
          "model_module": "@jupyter-widgets/controls",
          "model_module_version": "1.5.0",
          "model_name": "DescriptionStyleModel",
          "state": {
            "_model_module": "@jupyter-widgets/controls",
            "_model_module_version": "1.5.0",
            "_model_name": "DescriptionStyleModel",
            "_view_count": null,
            "_view_module": "@jupyter-widgets/base",
            "_view_module_version": "1.2.0",
            "_view_name": "StyleView",
            "description_width": ""
          }
        },
        "16266b91aefd41979181146a23636b5e": {
          "model_module": "@jupyter-widgets/controls",
          "model_module_version": "1.5.0",
          "model_name": "DescriptionStyleModel",
          "state": {
            "_model_module": "@jupyter-widgets/controls",
            "_model_module_version": "1.5.0",
            "_model_name": "DescriptionStyleModel",
            "_view_count": null,
            "_view_module": "@jupyter-widgets/base",
            "_view_module_version": "1.2.0",
            "_view_name": "StyleView",
            "description_width": ""
          }
        },
        "1709adf3b3fc404bbe12270d875ef681": {
          "model_module": "@jupyter-widgets/base",
          "model_module_version": "1.2.0",
          "model_name": "LayoutModel",
          "state": {
            "_model_module": "@jupyter-widgets/base",
            "_model_module_version": "1.2.0",
            "_model_name": "LayoutModel",
            "_view_count": null,
            "_view_module": "@jupyter-widgets/base",
            "_view_module_version": "1.2.0",
            "_view_name": "LayoutView",
            "align_content": null,
            "align_items": null,
            "align_self": null,
            "border": null,
            "bottom": null,
            "display": null,
            "flex": null,
            "flex_flow": null,
            "grid_area": null,
            "grid_auto_columns": null,
            "grid_auto_flow": null,
            "grid_auto_rows": null,
            "grid_column": null,
            "grid_gap": null,
            "grid_row": null,
            "grid_template_areas": null,
            "grid_template_columns": null,
            "grid_template_rows": null,
            "height": null,
            "justify_content": null,
            "justify_items": null,
            "left": null,
            "margin": null,
            "max_height": null,
            "max_width": null,
            "min_height": null,
            "min_width": null,
            "object_fit": null,
            "object_position": null,
            "order": null,
            "overflow": null,
            "overflow_x": null,
            "overflow_y": null,
            "padding": null,
            "right": null,
            "top": null,
            "visibility": null,
            "width": null
          }
        },
        "1956dc38375d4399b5173889f1a5996f": {
          "model_module": "@jupyter-widgets/controls",
          "model_module_version": "1.5.0",
          "model_name": "DescriptionStyleModel",
          "state": {
            "_model_module": "@jupyter-widgets/controls",
            "_model_module_version": "1.5.0",
            "_model_name": "DescriptionStyleModel",
            "_view_count": null,
            "_view_module": "@jupyter-widgets/base",
            "_view_module_version": "1.2.0",
            "_view_name": "StyleView",
            "description_width": ""
          }
        },
        "1aecf7228d844475bc850624171800e9": {
          "model_module": "@jupyter-widgets/controls",
          "model_module_version": "1.5.0",
          "model_name": "HTMLModel",
          "state": {
            "_dom_classes": [],
            "_model_module": "@jupyter-widgets/controls",
            "_model_module_version": "1.5.0",
            "_model_name": "HTMLModel",
            "_view_count": null,
            "_view_module": "@jupyter-widgets/controls",
            "_view_module_version": "1.5.0",
            "_view_name": "HTMLView",
            "description": "",
            "description_tooltip": null,
            "layout": "IPY_MODEL_c75843c516bc42d8a87c25b045afd5e7",
            "placeholder": "​",
            "style": "IPY_MODEL_14e8ff7b1ad44438ac0262333aae36c8",
            "value": "model.safetensors.index.json: 100%"
          }
        },
        "1dbc7d93794943cf97cdfd57091df99a": {
          "model_module": "@jupyter-widgets/base",
          "model_module_version": "1.2.0",
          "model_name": "LayoutModel",
          "state": {
            "_model_module": "@jupyter-widgets/base",
            "_model_module_version": "1.2.0",
            "_model_name": "LayoutModel",
            "_view_count": null,
            "_view_module": "@jupyter-widgets/base",
            "_view_module_version": "1.2.0",
            "_view_name": "LayoutView",
            "align_content": null,
            "align_items": null,
            "align_self": null,
            "border": null,
            "bottom": null,
            "display": null,
            "flex": null,
            "flex_flow": null,
            "grid_area": null,
            "grid_auto_columns": null,
            "grid_auto_flow": null,
            "grid_auto_rows": null,
            "grid_column": null,
            "grid_gap": null,
            "grid_row": null,
            "grid_template_areas": null,
            "grid_template_columns": null,
            "grid_template_rows": null,
            "height": null,
            "justify_content": null,
            "justify_items": null,
            "left": null,
            "margin": null,
            "max_height": null,
            "max_width": null,
            "min_height": null,
            "min_width": null,
            "object_fit": null,
            "object_position": null,
            "order": null,
            "overflow": null,
            "overflow_x": null,
            "overflow_y": null,
            "padding": null,
            "right": null,
            "top": null,
            "visibility": null,
            "width": null
          }
        },
        "244e3a29822d4f58ac7c422ddc8372bd": {
          "model_module": "@jupyter-widgets/controls",
          "model_module_version": "1.5.0",
          "model_name": "ProgressStyleModel",
          "state": {
            "_model_module": "@jupyter-widgets/controls",
            "_model_module_version": "1.5.0",
            "_model_name": "ProgressStyleModel",
            "_view_count": null,
            "_view_module": "@jupyter-widgets/base",
            "_view_module_version": "1.2.0",
            "_view_name": "StyleView",
            "bar_color": null,
            "description_width": ""
          }
        },
        "2550a0980c284ac292fa34189925ed5a": {
          "model_module": "@jupyter-widgets/controls",
          "model_module_version": "1.5.0",
          "model_name": "FloatProgressModel",
          "state": {
            "_dom_classes": [],
            "_model_module": "@jupyter-widgets/controls",
            "_model_module_version": "1.5.0",
            "_model_name": "FloatProgressModel",
            "_view_count": null,
            "_view_module": "@jupyter-widgets/controls",
            "_view_module_version": "1.5.0",
            "_view_name": "ProgressView",
            "bar_style": "success",
            "description": "",
            "description_tooltip": null,
            "layout": "IPY_MODEL_f4493d2e5c71411cbace03282f5eff40",
            "max": 2,
            "min": 0,
            "orientation": "horizontal",
            "style": "IPY_MODEL_f121fefcfabe4bc7b4b4d96f3ddaab30",
            "value": 2
          }
        },
        "2bf43eb5eb24410c90cc340fad794ea3": {
          "model_module": "@jupyter-widgets/controls",
          "model_module_version": "1.5.0",
          "model_name": "HTMLModel",
          "state": {
            "_dom_classes": [],
            "_model_module": "@jupyter-widgets/controls",
            "_model_module_version": "1.5.0",
            "_model_name": "HTMLModel",
            "_view_count": null,
            "_view_module": "@jupyter-widgets/controls",
            "_view_module_version": "1.5.0",
            "_view_name": "HTMLView",
            "description": "",
            "description_tooltip": null,
            "layout": "IPY_MODEL_ea9c8b6277e4494c9764a4b3dd4b1f58",
            "placeholder": "​",
            "style": "IPY_MODEL_c59ff2f051e545a7b1484ef1f2c13b9f",
            "value": "model-00001-of-00002.safetensors: 100%"
          }
        },
        "37c3bb07d5b44821bc1e447c8c2e8bc5": {
          "model_module": "@jupyter-widgets/base",
          "model_module_version": "1.2.0",
          "model_name": "LayoutModel",
          "state": {
            "_model_module": "@jupyter-widgets/base",
            "_model_module_version": "1.2.0",
            "_model_name": "LayoutModel",
            "_view_count": null,
            "_view_module": "@jupyter-widgets/base",
            "_view_module_version": "1.2.0",
            "_view_name": "LayoutView",
            "align_content": null,
            "align_items": null,
            "align_self": null,
            "border": null,
            "bottom": null,
            "display": null,
            "flex": null,
            "flex_flow": null,
            "grid_area": null,
            "grid_auto_columns": null,
            "grid_auto_flow": null,
            "grid_auto_rows": null,
            "grid_column": null,
            "grid_gap": null,
            "grid_row": null,
            "grid_template_areas": null,
            "grid_template_columns": null,
            "grid_template_rows": null,
            "height": null,
            "justify_content": null,
            "justify_items": null,
            "left": null,
            "margin": null,
            "max_height": null,
            "max_width": null,
            "min_height": null,
            "min_width": null,
            "object_fit": null,
            "object_position": null,
            "order": null,
            "overflow": null,
            "overflow_x": null,
            "overflow_y": null,
            "padding": null,
            "right": null,
            "top": null,
            "visibility": null,
            "width": null
          }
        },
        "3d9861fb25524bf982e319338c040c78": {
          "model_module": "@jupyter-widgets/controls",
          "model_module_version": "1.5.0",
          "model_name": "HTMLModel",
          "state": {
            "_dom_classes": [],
            "_model_module": "@jupyter-widgets/controls",
            "_model_module_version": "1.5.0",
            "_model_name": "HTMLModel",
            "_view_count": null,
            "_view_module": "@jupyter-widgets/controls",
            "_view_module_version": "1.5.0",
            "_view_name": "HTMLView",
            "description": "",
            "description_tooltip": null,
            "layout": "IPY_MODEL_ff77fd7fc22a41a4898e79238a3fa170",
            "placeholder": "​",
            "style": "IPY_MODEL_4c1df76329844faca5ba0e790f31a6ff",
            "value": " 571/571 [00:00&lt;00:00, 13.3kB/s]"
          }
        },
        "414c7ca6a8ea41688afc830b0452e246": {
          "model_module": "@jupyter-widgets/controls",
          "model_module_version": "1.5.0",
          "model_name": "ProgressStyleModel",
          "state": {
            "_model_module": "@jupyter-widgets/controls",
            "_model_module_version": "1.5.0",
            "_model_name": "ProgressStyleModel",
            "_view_count": null,
            "_view_module": "@jupyter-widgets/base",
            "_view_module_version": "1.2.0",
            "_view_name": "StyleView",
            "bar_color": null,
            "description_width": ""
          }
        },
        "41cd4cc0797f47efb8c191d04b9496ce": {
          "model_module": "@jupyter-widgets/controls",
          "model_module_version": "1.5.0",
          "model_name": "HBoxModel",
          "state": {
            "_dom_classes": [],
            "_model_module": "@jupyter-widgets/controls",
            "_model_module_version": "1.5.0",
            "_model_name": "HBoxModel",
            "_view_count": null,
            "_view_module": "@jupyter-widgets/controls",
            "_view_module_version": "1.5.0",
            "_view_name": "HBoxView",
            "box_style": "",
            "children": [
              "IPY_MODEL_2bf43eb5eb24410c90cc340fad794ea3",
              "IPY_MODEL_a7d2dedd17b1420ab6eeea3307bf3d7f",
              "IPY_MODEL_e9ca586aced14b4080b972111e9d8c20"
            ],
            "layout": "IPY_MODEL_702f61a879c34a1c84d74f5f2b6623f5"
          }
        },
        "43ab8f07c8184f9b91dc6a5a679ec395": {
          "model_module": "@jupyter-widgets/base",
          "model_module_version": "1.2.0",
          "model_name": "LayoutModel",
          "state": {
            "_model_module": "@jupyter-widgets/base",
            "_model_module_version": "1.2.0",
            "_model_name": "LayoutModel",
            "_view_count": null,
            "_view_module": "@jupyter-widgets/base",
            "_view_module_version": "1.2.0",
            "_view_name": "LayoutView",
            "align_content": null,
            "align_items": null,
            "align_self": null,
            "border": null,
            "bottom": null,
            "display": null,
            "flex": null,
            "flex_flow": null,
            "grid_area": null,
            "grid_auto_columns": null,
            "grid_auto_flow": null,
            "grid_auto_rows": null,
            "grid_column": null,
            "grid_gap": null,
            "grid_row": null,
            "grid_template_areas": null,
            "grid_template_columns": null,
            "grid_template_rows": null,
            "height": null,
            "justify_content": null,
            "justify_items": null,
            "left": null,
            "margin": null,
            "max_height": null,
            "max_width": null,
            "min_height": null,
            "min_width": null,
            "object_fit": null,
            "object_position": null,
            "order": null,
            "overflow": null,
            "overflow_x": null,
            "overflow_y": null,
            "padding": null,
            "right": null,
            "top": null,
            "visibility": null,
            "width": null
          }
        },
        "43b80997f78244879f20b8f428534620": {
          "model_module": "@jupyter-widgets/controls",
          "model_module_version": "1.5.0",
          "model_name": "HTMLModel",
          "state": {
            "_dom_classes": [],
            "_model_module": "@jupyter-widgets/controls",
            "_model_module_version": "1.5.0",
            "_model_name": "HTMLModel",
            "_view_count": null,
            "_view_module": "@jupyter-widgets/controls",
            "_view_module_version": "1.5.0",
            "_view_name": "HTMLView",
            "description": "",
            "description_tooltip": null,
            "layout": "IPY_MODEL_c7295385a4504ac8aa2b34155e4e49bd",
            "placeholder": "​",
            "style": "IPY_MODEL_ad1275c5c30e4afca10afc3863aeff3b",
            "value": "Loading checkpoint shards:   0%"
          }
        },
        "44e3c6e7b3ab470e866ff6d33d76867f": {
          "model_module": "@jupyter-widgets/controls",
          "model_module_version": "1.5.0",
          "model_name": "HBoxModel",
          "state": {
            "_dom_classes": [],
            "_model_module": "@jupyter-widgets/controls",
            "_model_module_version": "1.5.0",
            "_model_name": "HBoxModel",
            "_view_count": null,
            "_view_module": "@jupyter-widgets/controls",
            "_view_module_version": "1.5.0",
            "_view_name": "HBoxView",
            "box_style": "",
            "children": [
              "IPY_MODEL_dca5f53964634da391e5d48c7b0bc722",
              "IPY_MODEL_8b68c5ccfcbb41edbd848b15e7d40005",
              "IPY_MODEL_58a00c07770d444d93956ec50a9849a9"
            ],
            "layout": "IPY_MODEL_058e1bb60be1455ba2e342425393096b"
          }
        },
        "461a4431ded34679baa758fae5401d44": {
          "model_module": "@jupyter-widgets/base",
          "model_module_version": "1.2.0",
          "model_name": "LayoutModel",
          "state": {
            "_model_module": "@jupyter-widgets/base",
            "_model_module_version": "1.2.0",
            "_model_name": "LayoutModel",
            "_view_count": null,
            "_view_module": "@jupyter-widgets/base",
            "_view_module_version": "1.2.0",
            "_view_name": "LayoutView",
            "align_content": null,
            "align_items": null,
            "align_self": null,
            "border": null,
            "bottom": null,
            "display": null,
            "flex": null,
            "flex_flow": null,
            "grid_area": null,
            "grid_auto_columns": null,
            "grid_auto_flow": null,
            "grid_auto_rows": null,
            "grid_column": null,
            "grid_gap": null,
            "grid_row": null,
            "grid_template_areas": null,
            "grid_template_columns": null,
            "grid_template_rows": null,
            "height": null,
            "justify_content": null,
            "justify_items": null,
            "left": null,
            "margin": null,
            "max_height": null,
            "max_width": null,
            "min_height": null,
            "min_width": null,
            "object_fit": null,
            "object_position": null,
            "order": null,
            "overflow": null,
            "overflow_x": null,
            "overflow_y": null,
            "padding": null,
            "right": null,
            "top": null,
            "visibility": null,
            "width": null
          }
        },
        "467adba9064c4aff8a8a61158a70d311": {
          "model_module": "@jupyter-widgets/controls",
          "model_module_version": "1.5.0",
          "model_name": "HBoxModel",
          "state": {
            "_dom_classes": [],
            "_model_module": "@jupyter-widgets/controls",
            "_model_module_version": "1.5.0",
            "_model_name": "HBoxModel",
            "_view_count": null,
            "_view_module": "@jupyter-widgets/controls",
            "_view_module_version": "1.5.0",
            "_view_name": "HBoxView",
            "box_style": "",
            "children": [
              "IPY_MODEL_43b80997f78244879f20b8f428534620",
              "IPY_MODEL_c829a4ebec9347a2b64ed6f3183aedf3",
              "IPY_MODEL_da74f010ea3d40dd80aaa0ec04d9cc76"
            ],
            "layout": "IPY_MODEL_1dbc7d93794943cf97cdfd57091df99a"
          }
        },
        "4c1df76329844faca5ba0e790f31a6ff": {
          "model_module": "@jupyter-widgets/controls",
          "model_module_version": "1.5.0",
          "model_name": "DescriptionStyleModel",
          "state": {
            "_model_module": "@jupyter-widgets/controls",
            "_model_module_version": "1.5.0",
            "_model_name": "DescriptionStyleModel",
            "_view_count": null,
            "_view_module": "@jupyter-widgets/base",
            "_view_module_version": "1.2.0",
            "_view_name": "StyleView",
            "description_width": ""
          }
        },
        "58a00c07770d444d93956ec50a9849a9": {
          "model_module": "@jupyter-widgets/controls",
          "model_module_version": "1.5.0",
          "model_name": "HTMLModel",
          "state": {
            "_dom_classes": [],
            "_model_module": "@jupyter-widgets/controls",
            "_model_module_version": "1.5.0",
            "_model_name": "HTMLModel",
            "_view_count": null,
            "_view_module": "@jupyter-widgets/controls",
            "_view_module_version": "1.5.0",
            "_view_name": "HTMLView",
            "description": "",
            "description_tooltip": null,
            "layout": "IPY_MODEL_43ab8f07c8184f9b91dc6a5a679ec395",
            "placeholder": "​",
            "style": "IPY_MODEL_f61b26f4b26e4c8e8903a4e10bb12636",
            "value": " 4.54G/4.54G [00:42&lt;00:00, 128MB/s]"
          }
        },
        "60ffc724689646cf8c20e80c573a43a9": {
          "model_module": "@jupyter-widgets/controls",
          "model_module_version": "1.5.0",
          "model_name": "DescriptionStyleModel",
          "state": {
            "_model_module": "@jupyter-widgets/controls",
            "_model_module_version": "1.5.0",
            "_model_name": "DescriptionStyleModel",
            "_view_count": null,
            "_view_module": "@jupyter-widgets/base",
            "_view_module_version": "1.2.0",
            "_view_name": "StyleView",
            "description_width": ""
          }
        },
        "661149e950154562869e9b7e60a4d69c": {
          "model_module": "@jupyter-widgets/controls",
          "model_module_version": "1.5.0",
          "model_name": "HBoxModel",
          "state": {
            "_dom_classes": [],
            "_model_module": "@jupyter-widgets/controls",
            "_model_module_version": "1.5.0",
            "_model_name": "HBoxModel",
            "_view_count": null,
            "_view_module": "@jupyter-widgets/controls",
            "_view_module_version": "1.5.0",
            "_view_name": "HBoxView",
            "box_style": "",
            "children": [
              "IPY_MODEL_ba687bcd100f4aaab322dcce6816cf44",
              "IPY_MODEL_e345d2cc4b22436a9b7b1da7e0bb1aa0",
              "IPY_MODEL_3d9861fb25524bf982e319338c040c78"
            ],
            "layout": "IPY_MODEL_b3c2af43bb6649a4aef41f6c3ccbeec2"
          }
        },
        "6ca0023801ad4f4a9a0a0cdb32ba34d1": {
          "model_module": "@jupyter-widgets/controls",
          "model_module_version": "1.5.0",
          "model_name": "FloatProgressModel",
          "state": {
            "_dom_classes": [],
            "_model_module": "@jupyter-widgets/controls",
            "_model_module_version": "1.5.0",
            "_model_name": "FloatProgressModel",
            "_view_count": null,
            "_view_module": "@jupyter-widgets/controls",
            "_view_module_version": "1.5.0",
            "_view_name": "ProgressView",
            "bar_style": "success",
            "description": "",
            "description_tooltip": null,
            "layout": "IPY_MODEL_cac520fc3ccc4c0f855612726f83cacc",
            "max": 25125,
            "min": 0,
            "orientation": "horizontal",
            "style": "IPY_MODEL_fb60e0c1d4bd4df89409f5a3131514e6",
            "value": 25125
          }
        },
        "702f61a879c34a1c84d74f5f2b6623f5": {
          "model_module": "@jupyter-widgets/base",
          "model_module_version": "1.2.0",
          "model_name": "LayoutModel",
          "state": {
            "_model_module": "@jupyter-widgets/base",
            "_model_module_version": "1.2.0",
            "_model_name": "LayoutModel",
            "_view_count": null,
            "_view_module": "@jupyter-widgets/base",
            "_view_module_version": "1.2.0",
            "_view_name": "LayoutView",
            "align_content": null,
            "align_items": null,
            "align_self": null,
            "border": null,
            "bottom": null,
            "display": null,
            "flex": null,
            "flex_flow": null,
            "grid_area": null,
            "grid_auto_columns": null,
            "grid_auto_flow": null,
            "grid_auto_rows": null,
            "grid_column": null,
            "grid_gap": null,
            "grid_row": null,
            "grid_template_areas": null,
            "grid_template_columns": null,
            "grid_template_rows": null,
            "height": null,
            "justify_content": null,
            "justify_items": null,
            "left": null,
            "margin": null,
            "max_height": null,
            "max_width": null,
            "min_height": null,
            "min_width": null,
            "object_fit": null,
            "object_position": null,
            "order": null,
            "overflow": null,
            "overflow_x": null,
            "overflow_y": null,
            "padding": null,
            "right": null,
            "top": null,
            "visibility": null,
            "width": null
          }
        },
        "74588f095cb8487999ece24e83b5e2fb": {
          "model_module": "@jupyter-widgets/controls",
          "model_module_version": "1.5.0",
          "model_name": "DescriptionStyleModel",
          "state": {
            "_model_module": "@jupyter-widgets/controls",
            "_model_module_version": "1.5.0",
            "_model_name": "DescriptionStyleModel",
            "_view_count": null,
            "_view_module": "@jupyter-widgets/base",
            "_view_module_version": "1.2.0",
            "_view_name": "StyleView",
            "description_width": ""
          }
        },
        "871b9e0a9a874789aedce51d24cf9a09": {
          "model_module": "@jupyter-widgets/controls",
          "model_module_version": "1.5.0",
          "model_name": "ProgressStyleModel",
          "state": {
            "_model_module": "@jupyter-widgets/controls",
            "_model_module_version": "1.5.0",
            "_model_name": "ProgressStyleModel",
            "_view_count": null,
            "_view_module": "@jupyter-widgets/base",
            "_view_module_version": "1.2.0",
            "_view_name": "StyleView",
            "bar_color": null,
            "description_width": ""
          }
        },
        "8a4f5c040d5f417489a3717f1594770a": {
          "model_module": "@jupyter-widgets/controls",
          "model_module_version": "1.5.0",
          "model_name": "DescriptionStyleModel",
          "state": {
            "_model_module": "@jupyter-widgets/controls",
            "_model_module_version": "1.5.0",
            "_model_name": "DescriptionStyleModel",
            "_view_count": null,
            "_view_module": "@jupyter-widgets/base",
            "_view_module_version": "1.2.0",
            "_view_name": "StyleView",
            "description_width": ""
          }
        },
        "8b68c5ccfcbb41edbd848b15e7d40005": {
          "model_module": "@jupyter-widgets/controls",
          "model_module_version": "1.5.0",
          "model_name": "FloatProgressModel",
          "state": {
            "_dom_classes": [],
            "_model_module": "@jupyter-widgets/controls",
            "_model_module_version": "1.5.0",
            "_model_name": "FloatProgressModel",
            "_view_count": null,
            "_view_module": "@jupyter-widgets/controls",
            "_view_module_version": "1.5.0",
            "_view_name": "ProgressView",
            "bar_style": "success",
            "description": "",
            "description_tooltip": null,
            "layout": "IPY_MODEL_d98e4792b91940799501e4dcad738a1f",
            "max": 4540516344,
            "min": 0,
            "orientation": "horizontal",
            "style": "IPY_MODEL_facd17d5c21b40208a5d2616b881113b",
            "value": 4540516344
          }
        },
        "9a55c6cf64c94ff88a10f64c968b86c9": {
          "model_module": "@jupyter-widgets/controls",
          "model_module_version": "1.5.0",
          "model_name": "HTMLModel",
          "state": {
            "_dom_classes": [],
            "_model_module": "@jupyter-widgets/controls",
            "_model_module_version": "1.5.0",
            "_model_name": "HTMLModel",
            "_view_count": null,
            "_view_module": "@jupyter-widgets/controls",
            "_view_module_version": "1.5.0",
            "_view_name": "HTMLView",
            "description": "",
            "description_tooltip": null,
            "layout": "IPY_MODEL_e41c440093b3473da42412f69a26fa1f",
            "placeholder": "​",
            "style": "IPY_MODEL_60ffc724689646cf8c20e80c573a43a9",
            "value": "Downloading shards: 100%"
          }
        },
        "9bc9c75e18a944eca493e1df6702d2e8": {
          "model_module": "@jupyter-widgets/controls",
          "model_module_version": "1.5.0",
          "model_name": "HTMLModel",
          "state": {
            "_dom_classes": [],
            "_model_module": "@jupyter-widgets/controls",
            "_model_module_version": "1.5.0",
            "_model_name": "HTMLModel",
            "_view_count": null,
            "_view_module": "@jupyter-widgets/controls",
            "_view_module_version": "1.5.0",
            "_view_name": "HTMLView",
            "description": "",
            "description_tooltip": null,
            "layout": "IPY_MODEL_37c3bb07d5b44821bc1e447c8c2e8bc5",
            "placeholder": "​",
            "style": "IPY_MODEL_8a4f5c040d5f417489a3717f1594770a",
            "value": " 25.1k/25.1k [00:00&lt;00:00, 634kB/s]"
          }
        },
        "9d63026223594acb9be138d12c4ba5dd": {
          "model_module": "@jupyter-widgets/controls",
          "model_module_version": "1.5.0",
          "model_name": "HBoxModel",
          "state": {
            "_dom_classes": [],
            "_model_module": "@jupyter-widgets/controls",
            "_model_module_version": "1.5.0",
            "_model_name": "HBoxModel",
            "_view_count": null,
            "_view_module": "@jupyter-widgets/controls",
            "_view_module_version": "1.5.0",
            "_view_name": "HBoxView",
            "box_style": "",
            "children": [
              "IPY_MODEL_1aecf7228d844475bc850624171800e9",
              "IPY_MODEL_6ca0023801ad4f4a9a0a0cdb32ba34d1",
              "IPY_MODEL_9bc9c75e18a944eca493e1df6702d2e8"
            ],
            "layout": "IPY_MODEL_9e3274d4946940d5aea4d514a0b2c2ec"
          }
        },
        "9e3274d4946940d5aea4d514a0b2c2ec": {
          "model_module": "@jupyter-widgets/base",
          "model_module_version": "1.2.0",
          "model_name": "LayoutModel",
          "state": {
            "_model_module": "@jupyter-widgets/base",
            "_model_module_version": "1.2.0",
            "_model_name": "LayoutModel",
            "_view_count": null,
            "_view_module": "@jupyter-widgets/base",
            "_view_module_version": "1.2.0",
            "_view_name": "LayoutView",
            "align_content": null,
            "align_items": null,
            "align_self": null,
            "border": null,
            "bottom": null,
            "display": null,
            "flex": null,
            "flex_flow": null,
            "grid_area": null,
            "grid_auto_columns": null,
            "grid_auto_flow": null,
            "grid_auto_rows": null,
            "grid_column": null,
            "grid_gap": null,
            "grid_row": null,
            "grid_template_areas": null,
            "grid_template_columns": null,
            "grid_template_rows": null,
            "height": null,
            "justify_content": null,
            "justify_items": null,
            "left": null,
            "margin": null,
            "max_height": null,
            "max_width": null,
            "min_height": null,
            "min_width": null,
            "object_fit": null,
            "object_position": null,
            "order": null,
            "overflow": null,
            "overflow_x": null,
            "overflow_y": null,
            "padding": null,
            "right": null,
            "top": null,
            "visibility": null,
            "width": null
          }
        },
        "a7d2dedd17b1420ab6eeea3307bf3d7f": {
          "model_module": "@jupyter-widgets/controls",
          "model_module_version": "1.5.0",
          "model_name": "FloatProgressModel",
          "state": {
            "_dom_classes": [],
            "_model_module": "@jupyter-widgets/controls",
            "_model_module_version": "1.5.0",
            "_model_name": "FloatProgressModel",
            "_view_count": null,
            "_view_module": "@jupyter-widgets/controls",
            "_view_module_version": "1.5.0",
            "_view_name": "ProgressView",
            "bar_style": "success",
            "description": "",
            "description_tooltip": null,
            "layout": "IPY_MODEL_1709adf3b3fc404bbe12270d875ef681",
            "max": 9942981696,
            "min": 0,
            "orientation": "horizontal",
            "style": "IPY_MODEL_871b9e0a9a874789aedce51d24cf9a09",
            "value": 9942981696
          }
        },
        "a99ba19b5fb5450c8307dd36354c483d": {
          "model_module": "@jupyter-widgets/base",
          "model_module_version": "1.2.0",
          "model_name": "LayoutModel",
          "state": {
            "_model_module": "@jupyter-widgets/base",
            "_model_module_version": "1.2.0",
            "_model_name": "LayoutModel",
            "_view_count": null,
            "_view_module": "@jupyter-widgets/base",
            "_view_module_version": "1.2.0",
            "_view_name": "LayoutView",
            "align_content": null,
            "align_items": null,
            "align_self": null,
            "border": null,
            "bottom": null,
            "display": null,
            "flex": null,
            "flex_flow": null,
            "grid_area": null,
            "grid_auto_columns": null,
            "grid_auto_flow": null,
            "grid_auto_rows": null,
            "grid_column": null,
            "grid_gap": null,
            "grid_row": null,
            "grid_template_areas": null,
            "grid_template_columns": null,
            "grid_template_rows": null,
            "height": null,
            "justify_content": null,
            "justify_items": null,
            "left": null,
            "margin": null,
            "max_height": null,
            "max_width": null,
            "min_height": null,
            "min_width": null,
            "object_fit": null,
            "object_position": null,
            "order": null,
            "overflow": null,
            "overflow_x": null,
            "overflow_y": null,
            "padding": null,
            "right": null,
            "top": null,
            "visibility": null,
            "width": null
          }
        },
        "aa8f179e2bd2411ba6465d6e082d5ca7": {
          "model_module": "@jupyter-widgets/base",
          "model_module_version": "1.2.0",
          "model_name": "LayoutModel",
          "state": {
            "_model_module": "@jupyter-widgets/base",
            "_model_module_version": "1.2.0",
            "_model_name": "LayoutModel",
            "_view_count": null,
            "_view_module": "@jupyter-widgets/base",
            "_view_module_version": "1.2.0",
            "_view_name": "LayoutView",
            "align_content": null,
            "align_items": null,
            "align_self": null,
            "border": null,
            "bottom": null,
            "display": null,
            "flex": null,
            "flex_flow": null,
            "grid_area": null,
            "grid_auto_columns": null,
            "grid_auto_flow": null,
            "grid_auto_rows": null,
            "grid_column": null,
            "grid_gap": null,
            "grid_row": null,
            "grid_template_areas": null,
            "grid_template_columns": null,
            "grid_template_rows": null,
            "height": null,
            "justify_content": null,
            "justify_items": null,
            "left": null,
            "margin": null,
            "max_height": null,
            "max_width": null,
            "min_height": null,
            "min_width": null,
            "object_fit": null,
            "object_position": null,
            "order": null,
            "overflow": null,
            "overflow_x": null,
            "overflow_y": null,
            "padding": null,
            "right": null,
            "top": null,
            "visibility": null,
            "width": null
          }
        },
        "ad1275c5c30e4afca10afc3863aeff3b": {
          "model_module": "@jupyter-widgets/controls",
          "model_module_version": "1.5.0",
          "model_name": "DescriptionStyleModel",
          "state": {
            "_model_module": "@jupyter-widgets/controls",
            "_model_module_version": "1.5.0",
            "_model_name": "DescriptionStyleModel",
            "_view_count": null,
            "_view_module": "@jupyter-widgets/base",
            "_view_module_version": "1.2.0",
            "_view_name": "StyleView",
            "description_width": ""
          }
        },
        "b1355c625c994a2cadd1edbccb8f8fe3": {
          "model_module": "@jupyter-widgets/base",
          "model_module_version": "1.2.0",
          "model_name": "LayoutModel",
          "state": {
            "_model_module": "@jupyter-widgets/base",
            "_model_module_version": "1.2.0",
            "_model_name": "LayoutModel",
            "_view_count": null,
            "_view_module": "@jupyter-widgets/base",
            "_view_module_version": "1.2.0",
            "_view_name": "LayoutView",
            "align_content": null,
            "align_items": null,
            "align_self": null,
            "border": null,
            "bottom": null,
            "display": null,
            "flex": null,
            "flex_flow": null,
            "grid_area": null,
            "grid_auto_columns": null,
            "grid_auto_flow": null,
            "grid_auto_rows": null,
            "grid_column": null,
            "grid_gap": null,
            "grid_row": null,
            "grid_template_areas": null,
            "grid_template_columns": null,
            "grid_template_rows": null,
            "height": null,
            "justify_content": null,
            "justify_items": null,
            "left": null,
            "margin": null,
            "max_height": null,
            "max_width": null,
            "min_height": null,
            "min_width": null,
            "object_fit": null,
            "object_position": null,
            "order": null,
            "overflow": null,
            "overflow_x": null,
            "overflow_y": null,
            "padding": null,
            "right": null,
            "top": null,
            "visibility": null,
            "width": null
          }
        },
        "b3c2af43bb6649a4aef41f6c3ccbeec2": {
          "model_module": "@jupyter-widgets/base",
          "model_module_version": "1.2.0",
          "model_name": "LayoutModel",
          "state": {
            "_model_module": "@jupyter-widgets/base",
            "_model_module_version": "1.2.0",
            "_model_name": "LayoutModel",
            "_view_count": null,
            "_view_module": "@jupyter-widgets/base",
            "_view_module_version": "1.2.0",
            "_view_name": "LayoutView",
            "align_content": null,
            "align_items": null,
            "align_self": null,
            "border": null,
            "bottom": null,
            "display": null,
            "flex": null,
            "flex_flow": null,
            "grid_area": null,
            "grid_auto_columns": null,
            "grid_auto_flow": null,
            "grid_auto_rows": null,
            "grid_column": null,
            "grid_gap": null,
            "grid_row": null,
            "grid_template_areas": null,
            "grid_template_columns": null,
            "grid_template_rows": null,
            "height": null,
            "justify_content": null,
            "justify_items": null,
            "left": null,
            "margin": null,
            "max_height": null,
            "max_width": null,
            "min_height": null,
            "min_width": null,
            "object_fit": null,
            "object_position": null,
            "order": null,
            "overflow": null,
            "overflow_x": null,
            "overflow_y": null,
            "padding": null,
            "right": null,
            "top": null,
            "visibility": null,
            "width": null
          }
        },
        "b607b17f09d640aba18f3dba586ab96b": {
          "model_module": "@jupyter-widgets/controls",
          "model_module_version": "1.5.0",
          "model_name": "HBoxModel",
          "state": {
            "_dom_classes": [],
            "_model_module": "@jupyter-widgets/controls",
            "_model_module_version": "1.5.0",
            "_model_name": "HBoxModel",
            "_view_count": null,
            "_view_module": "@jupyter-widgets/controls",
            "_view_module_version": "1.5.0",
            "_view_name": "HBoxView",
            "box_style": "",
            "children": [
              "IPY_MODEL_9a55c6cf64c94ff88a10f64c968b86c9",
              "IPY_MODEL_2550a0980c284ac292fa34189925ed5a",
              "IPY_MODEL_0581be0583a34c0faab9629365b08db2"
            ],
            "layout": "IPY_MODEL_c3bf0e3cd48c4a94b784bc665f89d010"
          }
        },
        "b8079e99e44c4e8e976fdc6c1e131d60": {
          "model_module": "@jupyter-widgets/controls",
          "model_module_version": "1.5.0",
          "model_name": "DescriptionStyleModel",
          "state": {
            "_model_module": "@jupyter-widgets/controls",
            "_model_module_version": "1.5.0",
            "_model_name": "DescriptionStyleModel",
            "_view_count": null,
            "_view_module": "@jupyter-widgets/base",
            "_view_module_version": "1.2.0",
            "_view_name": "StyleView",
            "description_width": ""
          }
        },
        "ba687bcd100f4aaab322dcce6816cf44": {
          "model_module": "@jupyter-widgets/controls",
          "model_module_version": "1.5.0",
          "model_name": "HTMLModel",
          "state": {
            "_dom_classes": [],
            "_model_module": "@jupyter-widgets/controls",
            "_model_module_version": "1.5.0",
            "_model_name": "HTMLModel",
            "_view_count": null,
            "_view_module": "@jupyter-widgets/controls",
            "_view_module_version": "1.5.0",
            "_view_name": "HTMLView",
            "description": "",
            "description_tooltip": null,
            "layout": "IPY_MODEL_aa8f179e2bd2411ba6465d6e082d5ca7",
            "placeholder": "​",
            "style": "IPY_MODEL_f872cf941ad84396bd8ffa5791b04fcb",
            "value": "config.json: 100%"
          }
        },
        "bf9f128b3f3e444ea2776a2f7ff336e1": {
          "model_module": "@jupyter-widgets/base",
          "model_module_version": "1.2.0",
          "model_name": "LayoutModel",
          "state": {
            "_model_module": "@jupyter-widgets/base",
            "_model_module_version": "1.2.0",
            "_model_name": "LayoutModel",
            "_view_count": null,
            "_view_module": "@jupyter-widgets/base",
            "_view_module_version": "1.2.0",
            "_view_name": "LayoutView",
            "align_content": null,
            "align_items": null,
            "align_self": null,
            "border": null,
            "bottom": null,
            "display": null,
            "flex": null,
            "flex_flow": null,
            "grid_area": null,
            "grid_auto_columns": null,
            "grid_auto_flow": null,
            "grid_auto_rows": null,
            "grid_column": null,
            "grid_gap": null,
            "grid_row": null,
            "grid_template_areas": null,
            "grid_template_columns": null,
            "grid_template_rows": null,
            "height": null,
            "justify_content": null,
            "justify_items": null,
            "left": null,
            "margin": null,
            "max_height": null,
            "max_width": null,
            "min_height": null,
            "min_width": null,
            "object_fit": null,
            "object_position": null,
            "order": null,
            "overflow": null,
            "overflow_x": null,
            "overflow_y": null,
            "padding": null,
            "right": null,
            "top": null,
            "visibility": null,
            "width": null
          }
        },
        "c3bf0e3cd48c4a94b784bc665f89d010": {
          "model_module": "@jupyter-widgets/base",
          "model_module_version": "1.2.0",
          "model_name": "LayoutModel",
          "state": {
            "_model_module": "@jupyter-widgets/base",
            "_model_module_version": "1.2.0",
            "_model_name": "LayoutModel",
            "_view_count": null,
            "_view_module": "@jupyter-widgets/base",
            "_view_module_version": "1.2.0",
            "_view_name": "LayoutView",
            "align_content": null,
            "align_items": null,
            "align_self": null,
            "border": null,
            "bottom": null,
            "display": null,
            "flex": null,
            "flex_flow": null,
            "grid_area": null,
            "grid_auto_columns": null,
            "grid_auto_flow": null,
            "grid_auto_rows": null,
            "grid_column": null,
            "grid_gap": null,
            "grid_row": null,
            "grid_template_areas": null,
            "grid_template_columns": null,
            "grid_template_rows": null,
            "height": null,
            "justify_content": null,
            "justify_items": null,
            "left": null,
            "margin": null,
            "max_height": null,
            "max_width": null,
            "min_height": null,
            "min_width": null,
            "object_fit": null,
            "object_position": null,
            "order": null,
            "overflow": null,
            "overflow_x": null,
            "overflow_y": null,
            "padding": null,
            "right": null,
            "top": null,
            "visibility": null,
            "width": null
          }
        },
        "c59ff2f051e545a7b1484ef1f2c13b9f": {
          "model_module": "@jupyter-widgets/controls",
          "model_module_version": "1.5.0",
          "model_name": "DescriptionStyleModel",
          "state": {
            "_model_module": "@jupyter-widgets/controls",
            "_model_module_version": "1.5.0",
            "_model_name": "DescriptionStyleModel",
            "_view_count": null,
            "_view_module": "@jupyter-widgets/base",
            "_view_module_version": "1.2.0",
            "_view_name": "StyleView",
            "description_width": ""
          }
        },
        "c7295385a4504ac8aa2b34155e4e49bd": {
          "model_module": "@jupyter-widgets/base",
          "model_module_version": "1.2.0",
          "model_name": "LayoutModel",
          "state": {
            "_model_module": "@jupyter-widgets/base",
            "_model_module_version": "1.2.0",
            "_model_name": "LayoutModel",
            "_view_count": null,
            "_view_module": "@jupyter-widgets/base",
            "_view_module_version": "1.2.0",
            "_view_name": "LayoutView",
            "align_content": null,
            "align_items": null,
            "align_self": null,
            "border": null,
            "bottom": null,
            "display": null,
            "flex": null,
            "flex_flow": null,
            "grid_area": null,
            "grid_auto_columns": null,
            "grid_auto_flow": null,
            "grid_auto_rows": null,
            "grid_column": null,
            "grid_gap": null,
            "grid_row": null,
            "grid_template_areas": null,
            "grid_template_columns": null,
            "grid_template_rows": null,
            "height": null,
            "justify_content": null,
            "justify_items": null,
            "left": null,
            "margin": null,
            "max_height": null,
            "max_width": null,
            "min_height": null,
            "min_width": null,
            "object_fit": null,
            "object_position": null,
            "order": null,
            "overflow": null,
            "overflow_x": null,
            "overflow_y": null,
            "padding": null,
            "right": null,
            "top": null,
            "visibility": null,
            "width": null
          }
        },
        "c75843c516bc42d8a87c25b045afd5e7": {
          "model_module": "@jupyter-widgets/base",
          "model_module_version": "1.2.0",
          "model_name": "LayoutModel",
          "state": {
            "_model_module": "@jupyter-widgets/base",
            "_model_module_version": "1.2.0",
            "_model_name": "LayoutModel",
            "_view_count": null,
            "_view_module": "@jupyter-widgets/base",
            "_view_module_version": "1.2.0",
            "_view_name": "LayoutView",
            "align_content": null,
            "align_items": null,
            "align_self": null,
            "border": null,
            "bottom": null,
            "display": null,
            "flex": null,
            "flex_flow": null,
            "grid_area": null,
            "grid_auto_columns": null,
            "grid_auto_flow": null,
            "grid_auto_rows": null,
            "grid_column": null,
            "grid_gap": null,
            "grid_row": null,
            "grid_template_areas": null,
            "grid_template_columns": null,
            "grid_template_rows": null,
            "height": null,
            "justify_content": null,
            "justify_items": null,
            "left": null,
            "margin": null,
            "max_height": null,
            "max_width": null,
            "min_height": null,
            "min_width": null,
            "object_fit": null,
            "object_position": null,
            "order": null,
            "overflow": null,
            "overflow_x": null,
            "overflow_y": null,
            "padding": null,
            "right": null,
            "top": null,
            "visibility": null,
            "width": null
          }
        },
        "c829a4ebec9347a2b64ed6f3183aedf3": {
          "model_module": "@jupyter-widgets/controls",
          "model_module_version": "1.5.0",
          "model_name": "FloatProgressModel",
          "state": {
            "_dom_classes": [],
            "_model_module": "@jupyter-widgets/controls",
            "_model_module_version": "1.5.0",
            "_model_name": "FloatProgressModel",
            "_view_count": null,
            "_view_module": "@jupyter-widgets/controls",
            "_view_module_version": "1.5.0",
            "_view_name": "ProgressView",
            "bar_style": "",
            "description": "",
            "description_tooltip": null,
            "layout": "IPY_MODEL_b1355c625c994a2cadd1edbccb8f8fe3",
            "max": 2,
            "min": 0,
            "orientation": "horizontal",
            "style": "IPY_MODEL_414c7ca6a8ea41688afc830b0452e246",
            "value": 0
          }
        },
        "cac520fc3ccc4c0f855612726f83cacc": {
          "model_module": "@jupyter-widgets/base",
          "model_module_version": "1.2.0",
          "model_name": "LayoutModel",
          "state": {
            "_model_module": "@jupyter-widgets/base",
            "_model_module_version": "1.2.0",
            "_model_name": "LayoutModel",
            "_view_count": null,
            "_view_module": "@jupyter-widgets/base",
            "_view_module_version": "1.2.0",
            "_view_name": "LayoutView",
            "align_content": null,
            "align_items": null,
            "align_self": null,
            "border": null,
            "bottom": null,
            "display": null,
            "flex": null,
            "flex_flow": null,
            "grid_area": null,
            "grid_auto_columns": null,
            "grid_auto_flow": null,
            "grid_auto_rows": null,
            "grid_column": null,
            "grid_gap": null,
            "grid_row": null,
            "grid_template_areas": null,
            "grid_template_columns": null,
            "grid_template_rows": null,
            "height": null,
            "justify_content": null,
            "justify_items": null,
            "left": null,
            "margin": null,
            "max_height": null,
            "max_width": null,
            "min_height": null,
            "min_width": null,
            "object_fit": null,
            "object_position": null,
            "order": null,
            "overflow": null,
            "overflow_x": null,
            "overflow_y": null,
            "padding": null,
            "right": null,
            "top": null,
            "visibility": null,
            "width": null
          }
        },
        "d98e4792b91940799501e4dcad738a1f": {
          "model_module": "@jupyter-widgets/base",
          "model_module_version": "1.2.0",
          "model_name": "LayoutModel",
          "state": {
            "_model_module": "@jupyter-widgets/base",
            "_model_module_version": "1.2.0",
            "_model_name": "LayoutModel",
            "_view_count": null,
            "_view_module": "@jupyter-widgets/base",
            "_view_module_version": "1.2.0",
            "_view_name": "LayoutView",
            "align_content": null,
            "align_items": null,
            "align_self": null,
            "border": null,
            "bottom": null,
            "display": null,
            "flex": null,
            "flex_flow": null,
            "grid_area": null,
            "grid_auto_columns": null,
            "grid_auto_flow": null,
            "grid_auto_rows": null,
            "grid_column": null,
            "grid_gap": null,
            "grid_row": null,
            "grid_template_areas": null,
            "grid_template_columns": null,
            "grid_template_rows": null,
            "height": null,
            "justify_content": null,
            "justify_items": null,
            "left": null,
            "margin": null,
            "max_height": null,
            "max_width": null,
            "min_height": null,
            "min_width": null,
            "object_fit": null,
            "object_position": null,
            "order": null,
            "overflow": null,
            "overflow_x": null,
            "overflow_y": null,
            "padding": null,
            "right": null,
            "top": null,
            "visibility": null,
            "width": null
          }
        },
        "da74f010ea3d40dd80aaa0ec04d9cc76": {
          "model_module": "@jupyter-widgets/controls",
          "model_module_version": "1.5.0",
          "model_name": "HTMLModel",
          "state": {
            "_dom_classes": [],
            "_model_module": "@jupyter-widgets/controls",
            "_model_module_version": "1.5.0",
            "_model_name": "HTMLModel",
            "_view_count": null,
            "_view_module": "@jupyter-widgets/controls",
            "_view_module_version": "1.5.0",
            "_view_name": "HTMLView",
            "description": "",
            "description_tooltip": null,
            "layout": "IPY_MODEL_0566a7afc16f4d3d838fdfa4a207d3d8",
            "placeholder": "​",
            "style": "IPY_MODEL_b8079e99e44c4e8e976fdc6c1e131d60",
            "value": " 0/2 [00:00&lt;?, ?it/s]"
          }
        },
        "dca5f53964634da391e5d48c7b0bc722": {
          "model_module": "@jupyter-widgets/controls",
          "model_module_version": "1.5.0",
          "model_name": "HTMLModel",
          "state": {
            "_dom_classes": [],
            "_model_module": "@jupyter-widgets/controls",
            "_model_module_version": "1.5.0",
            "_model_name": "HTMLModel",
            "_view_count": null,
            "_view_module": "@jupyter-widgets/controls",
            "_view_module_version": "1.5.0",
            "_view_name": "HTMLView",
            "description": "",
            "description_tooltip": null,
            "layout": "IPY_MODEL_461a4431ded34679baa758fae5401d44",
            "placeholder": "​",
            "style": "IPY_MODEL_1956dc38375d4399b5173889f1a5996f",
            "value": "model-00002-of-00002.safetensors: 100%"
          }
        },
        "e345d2cc4b22436a9b7b1da7e0bb1aa0": {
          "model_module": "@jupyter-widgets/controls",
          "model_module_version": "1.5.0",
          "model_name": "FloatProgressModel",
          "state": {
            "_dom_classes": [],
            "_model_module": "@jupyter-widgets/controls",
            "_model_module_version": "1.5.0",
            "_model_name": "FloatProgressModel",
            "_view_count": null,
            "_view_module": "@jupyter-widgets/controls",
            "_view_module_version": "1.5.0",
            "_view_name": "ProgressView",
            "bar_style": "success",
            "description": "",
            "description_tooltip": null,
            "layout": "IPY_MODEL_a99ba19b5fb5450c8307dd36354c483d",
            "max": 571,
            "min": 0,
            "orientation": "horizontal",
            "style": "IPY_MODEL_244e3a29822d4f58ac7c422ddc8372bd",
            "value": 571
          }
        },
        "e41c440093b3473da42412f69a26fa1f": {
          "model_module": "@jupyter-widgets/base",
          "model_module_version": "1.2.0",
          "model_name": "LayoutModel",
          "state": {
            "_model_module": "@jupyter-widgets/base",
            "_model_module_version": "1.2.0",
            "_model_name": "LayoutModel",
            "_view_count": null,
            "_view_module": "@jupyter-widgets/base",
            "_view_module_version": "1.2.0",
            "_view_name": "LayoutView",
            "align_content": null,
            "align_items": null,
            "align_self": null,
            "border": null,
            "bottom": null,
            "display": null,
            "flex": null,
            "flex_flow": null,
            "grid_area": null,
            "grid_auto_columns": null,
            "grid_auto_flow": null,
            "grid_auto_rows": null,
            "grid_column": null,
            "grid_gap": null,
            "grid_row": null,
            "grid_template_areas": null,
            "grid_template_columns": null,
            "grid_template_rows": null,
            "height": null,
            "justify_content": null,
            "justify_items": null,
            "left": null,
            "margin": null,
            "max_height": null,
            "max_width": null,
            "min_height": null,
            "min_width": null,
            "object_fit": null,
            "object_position": null,
            "order": null,
            "overflow": null,
            "overflow_x": null,
            "overflow_y": null,
            "padding": null,
            "right": null,
            "top": null,
            "visibility": null,
            "width": null
          }
        },
        "e9ca586aced14b4080b972111e9d8c20": {
          "model_module": "@jupyter-widgets/controls",
          "model_module_version": "1.5.0",
          "model_name": "HTMLModel",
          "state": {
            "_dom_classes": [],
            "_model_module": "@jupyter-widgets/controls",
            "_model_module_version": "1.5.0",
            "_model_name": "HTMLModel",
            "_view_count": null,
            "_view_module": "@jupyter-widgets/controls",
            "_view_module_version": "1.5.0",
            "_view_name": "HTMLView",
            "description": "",
            "description_tooltip": null,
            "layout": "IPY_MODEL_1030b1975ad9461fbb8a8cc08bf5e221",
            "placeholder": "​",
            "style": "IPY_MODEL_16266b91aefd41979181146a23636b5e",
            "value": " 9.94G/9.94G [01:34&lt;00:00, 131MB/s]"
          }
        },
        "ea9c8b6277e4494c9764a4b3dd4b1f58": {
          "model_module": "@jupyter-widgets/base",
          "model_module_version": "1.2.0",
          "model_name": "LayoutModel",
          "state": {
            "_model_module": "@jupyter-widgets/base",
            "_model_module_version": "1.2.0",
            "_model_name": "LayoutModel",
            "_view_count": null,
            "_view_module": "@jupyter-widgets/base",
            "_view_module_version": "1.2.0",
            "_view_name": "LayoutView",
            "align_content": null,
            "align_items": null,
            "align_self": null,
            "border": null,
            "bottom": null,
            "display": null,
            "flex": null,
            "flex_flow": null,
            "grid_area": null,
            "grid_auto_columns": null,
            "grid_auto_flow": null,
            "grid_auto_rows": null,
            "grid_column": null,
            "grid_gap": null,
            "grid_row": null,
            "grid_template_areas": null,
            "grid_template_columns": null,
            "grid_template_rows": null,
            "height": null,
            "justify_content": null,
            "justify_items": null,
            "left": null,
            "margin": null,
            "max_height": null,
            "max_width": null,
            "min_height": null,
            "min_width": null,
            "object_fit": null,
            "object_position": null,
            "order": null,
            "overflow": null,
            "overflow_x": null,
            "overflow_y": null,
            "padding": null,
            "right": null,
            "top": null,
            "visibility": null,
            "width": null
          }
        },
        "f121fefcfabe4bc7b4b4d96f3ddaab30": {
          "model_module": "@jupyter-widgets/controls",
          "model_module_version": "1.5.0",
          "model_name": "ProgressStyleModel",
          "state": {
            "_model_module": "@jupyter-widgets/controls",
            "_model_module_version": "1.5.0",
            "_model_name": "ProgressStyleModel",
            "_view_count": null,
            "_view_module": "@jupyter-widgets/base",
            "_view_module_version": "1.2.0",
            "_view_name": "StyleView",
            "bar_color": null,
            "description_width": ""
          }
        },
        "f4493d2e5c71411cbace03282f5eff40": {
          "model_module": "@jupyter-widgets/base",
          "model_module_version": "1.2.0",
          "model_name": "LayoutModel",
          "state": {
            "_model_module": "@jupyter-widgets/base",
            "_model_module_version": "1.2.0",
            "_model_name": "LayoutModel",
            "_view_count": null,
            "_view_module": "@jupyter-widgets/base",
            "_view_module_version": "1.2.0",
            "_view_name": "LayoutView",
            "align_content": null,
            "align_items": null,
            "align_self": null,
            "border": null,
            "bottom": null,
            "display": null,
            "flex": null,
            "flex_flow": null,
            "grid_area": null,
            "grid_auto_columns": null,
            "grid_auto_flow": null,
            "grid_auto_rows": null,
            "grid_column": null,
            "grid_gap": null,
            "grid_row": null,
            "grid_template_areas": null,
            "grid_template_columns": null,
            "grid_template_rows": null,
            "height": null,
            "justify_content": null,
            "justify_items": null,
            "left": null,
            "margin": null,
            "max_height": null,
            "max_width": null,
            "min_height": null,
            "min_width": null,
            "object_fit": null,
            "object_position": null,
            "order": null,
            "overflow": null,
            "overflow_x": null,
            "overflow_y": null,
            "padding": null,
            "right": null,
            "top": null,
            "visibility": null,
            "width": null
          }
        },
        "f61b26f4b26e4c8e8903a4e10bb12636": {
          "model_module": "@jupyter-widgets/controls",
          "model_module_version": "1.5.0",
          "model_name": "DescriptionStyleModel",
          "state": {
            "_model_module": "@jupyter-widgets/controls",
            "_model_module_version": "1.5.0",
            "_model_name": "DescriptionStyleModel",
            "_view_count": null,
            "_view_module": "@jupyter-widgets/base",
            "_view_module_version": "1.2.0",
            "_view_name": "StyleView",
            "description_width": ""
          }
        },
        "f872cf941ad84396bd8ffa5791b04fcb": {
          "model_module": "@jupyter-widgets/controls",
          "model_module_version": "1.5.0",
          "model_name": "DescriptionStyleModel",
          "state": {
            "_model_module": "@jupyter-widgets/controls",
            "_model_module_version": "1.5.0",
            "_model_name": "DescriptionStyleModel",
            "_view_count": null,
            "_view_module": "@jupyter-widgets/base",
            "_view_module_version": "1.2.0",
            "_view_name": "StyleView",
            "description_width": ""
          }
        },
        "facd17d5c21b40208a5d2616b881113b": {
          "model_module": "@jupyter-widgets/controls",
          "model_module_version": "1.5.0",
          "model_name": "ProgressStyleModel",
          "state": {
            "_model_module": "@jupyter-widgets/controls",
            "_model_module_version": "1.5.0",
            "_model_name": "ProgressStyleModel",
            "_view_count": null,
            "_view_module": "@jupyter-widgets/base",
            "_view_module_version": "1.2.0",
            "_view_name": "StyleView",
            "bar_color": null,
            "description_width": ""
          }
        },
        "fb60e0c1d4bd4df89409f5a3131514e6": {
          "model_module": "@jupyter-widgets/controls",
          "model_module_version": "1.5.0",
          "model_name": "ProgressStyleModel",
          "state": {
            "_model_module": "@jupyter-widgets/controls",
            "_model_module_version": "1.5.0",
            "_model_name": "ProgressStyleModel",
            "_view_count": null,
            "_view_module": "@jupyter-widgets/base",
            "_view_module_version": "1.2.0",
            "_view_name": "StyleView",
            "bar_color": null,
            "description_width": ""
          }
        },
        "ff77fd7fc22a41a4898e79238a3fa170": {
          "model_module": "@jupyter-widgets/base",
          "model_module_version": "1.2.0",
          "model_name": "LayoutModel",
          "state": {
            "_model_module": "@jupyter-widgets/base",
            "_model_module_version": "1.2.0",
            "_model_name": "LayoutModel",
            "_view_count": null,
            "_view_module": "@jupyter-widgets/base",
            "_view_module_version": "1.2.0",
            "_view_name": "LayoutView",
            "align_content": null,
            "align_items": null,
            "align_self": null,
            "border": null,
            "bottom": null,
            "display": null,
            "flex": null,
            "flex_flow": null,
            "grid_area": null,
            "grid_auto_columns": null,
            "grid_auto_flow": null,
            "grid_auto_rows": null,
            "grid_column": null,
            "grid_gap": null,
            "grid_row": null,
            "grid_template_areas": null,
            "grid_template_columns": null,
            "grid_template_rows": null,
            "height": null,
            "justify_content": null,
            "justify_items": null,
            "left": null,
            "margin": null,
            "max_height": null,
            "max_width": null,
            "min_height": null,
            "min_width": null,
            "object_fit": null,
            "object_position": null,
            "order": null,
            "overflow": null,
            "overflow_x": null,
            "overflow_y": null,
            "padding": null,
            "right": null,
            "top": null,
            "visibility": null,
            "width": null
          }
        }
      }
    }
  },
  "nbformat": 4,
  "nbformat_minor": 0
}
